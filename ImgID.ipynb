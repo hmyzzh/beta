{
 "cells": [
  {
   "cell_type": "code",
   "execution_count": 1,
   "id": "6fc4f9a9",
   "metadata": {},
   "outputs": [],
   "source": [
    "from bs4 import BeautifulSoup\n",
    "import requests\n",
    "import os\n",
    "import ImgID_Lib"
   ]
  },
  {
   "cell_type": "code",
   "execution_count": 2,
   "id": "59c72077",
   "metadata": {},
   "outputs": [
    {
     "name": "stdout",
     "output_type": "stream",
     "text": [
      "Post_20230129.html\n",
      "Post_20230129_04\n",
      "Post_20230129_05\n",
      "Post_20230129_06\n",
      "Post_20230129_07\n",
      "Post_20230129_08\n",
      "Post_20230129_09\n",
      "Post_20230129_10\n",
      "Post_20221022.html\n",
      "Post_20230111.html\n",
      "Post_20211010.html\n"
     ]
    }
   ],
   "source": [
    "for file in os.listdir():\n",
    "    if 'Post_20' in file:\n",
    "        print(file)\n",
    "        HTMLFile = open(file, \"r\")\n",
    "        index = HTMLFile.read()\n",
    "        S = BeautifulSoup(index, 'lxml')\n",
    "        for val in S.find_all('img'):\n",
    "            if val['src']==\"\":\n",
    "                ImgID=val['id']\n",
    "                print(ImgID)\n",
    "                val['src']=ImgID_Lib.dictt[ImgID]\n",
    "        with open(file, \"w\") as file:\n",
    "            file.write(str(S))"
   ]
  },
  {
   "cell_type": "code",
   "execution_count": null,
   "id": "827b4e0e",
   "metadata": {},
   "outputs": [],
   "source": []
  }
 ],
 "metadata": {
  "kernelspec": {
   "display_name": "Python 3 (ipykernel)",
   "language": "python",
   "name": "python3"
  },
  "language_info": {
   "codemirror_mode": {
    "name": "ipython",
    "version": 3
   },
   "file_extension": ".py",
   "mimetype": "text/x-python",
   "name": "python",
   "nbconvert_exporter": "python",
   "pygments_lexer": "ipython3",
   "version": "3.9.13"
  }
 },
 "nbformat": 4,
 "nbformat_minor": 5
}

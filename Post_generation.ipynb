{
 "cells": [
  {
   "cell_type": "code",
   "execution_count": 43,
   "id": "6fc4f9a9",
   "metadata": {},
   "outputs": [],
   "source": [
    "from bs4 import BeautifulSoup\n",
    "import requests\n",
    "import os\n",
    "import ImgID_Lib\n",
    "\n",
    "def Find_link(keyword):\n",
    "    for file in os.listdir():\n",
    "        if keyword in file:\n",
    "            print(file)\n",
    "            HTMLFile = open(file, \"r\")\n",
    "            index = HTMLFile.read()\n",
    "            S = BeautifulSoup(index, 'lxml')\n",
    "            for val in S.find_all('img'):\n",
    "                if val['src']==\"\":\n",
    "                    ImgID=val['id']\n",
    "                    print(ImgID)\n",
    "                    val['src']=ImgID_Lib.dictt[ImgID]\n",
    "            with open(file, \"w\") as file:\n",
    "                file.write(str(S))\n",
    "                \n",
    "def post_generate(Date,title,cover_image):\n",
    "    with open(\"header.html\",\"r\") as file:\n",
    "        header=file.read()\n",
    "    with open(\"footer.html\",\"r\") as file:\n",
    "        footer=file.read()\n",
    "    filename=\"Post_\"+Date+\".html\"\n",
    "    with open(filename, \"w\") as file:\n",
    "        file.write(header+footer)\n",
    "\n",
    "    HTMLFile = open(filename, \"r\")\n",
    "    index = HTMLFile.read()\n",
    "    S = BeautifulSoup(index, 'lxml')\n",
    "    t=S.head.title.contents[0]\n",
    "    t.replace_with(title)\n",
    "    t=S.header.h1.contents[0]\n",
    "    t.replace_with(title)\n",
    "    t=S.header.find_all('li')[1].contents[0]\n",
    "    t.replace_with('Post')\n",
    "    S.body.find_all('img')[0]['src']=ImgID_Lib.dictt[cover_image]\n",
    "\n",
    "    with open(filename, \"w\") as file:\n",
    "        file.write(str(S))\n",
    "\n",
    "def carousel_maker(carousel_id,carousel_img_id,carousel_img_size):\n",
    "    nn=len(carousel_img_id)\n",
    "    soup = BeautifulSoup(\"<div></div>\", 'html.parser')\n",
    "    soup.div['class']=\"carousel slide\"\n",
    "    soup.div['data-ride']=\"carousel\"\n",
    "    soup.div['id']=carousel_id\n",
    "    soup.div['style']=\"height:600px;\"\n",
    "    new_tag = soup.new_tag(\"ol\")\n",
    "    soup.div.append(new_tag)\n",
    "    soup.div.ol['class']=\"carousel-indicators\"\n",
    "    new_tag = soup.new_tag(\"li\")\n",
    "    soup.div.ol.append(new_tag)\n",
    "    soup.div.ol.li['class']=\"active\"\n",
    "    soup.div.ol.li['data-slide-to']=0\n",
    "    soup.div.ol.li['data-target']=\"#\"+carousel_id\n",
    "    for i in range(nn-1):\n",
    "        new_tag = soup.new_tag(\"li\")\n",
    "        soup.div.ol.append(new_tag)\n",
    "        soup.div.ol.find_all('li')[i+1]['data-slide-to']=i+1\n",
    "        soup.div.ol.find_all('li')[i+1]['data-target']=\"#\"+carousel_id\n",
    "    new_tag = soup.new_tag(\"div\")\n",
    "    soup.div.append(new_tag)\n",
    "    soup.div.div['class']=\"carousel-inner\"\n",
    "    new_tag = soup.new_tag(\"div\")\n",
    "    soup.div.div.append(new_tag)\n",
    "    soup.div.div.div['class']=\"carousel-item active\"\n",
    "    new_tag = soup.new_tag(\"img\")\n",
    "    soup.div.div.div.append(new_tag)\n",
    "    soup.div.div.div.img['class']=\"mx-auto d-block w-\"+carousel_img_size[0]\n",
    "    soup.div.div.div.img['src']=\"\"\n",
    "    soup.div.div.div.img['id']=carousel_img_id[0]\n",
    "    new_tag = soup.new_tag(\"div\")\n",
    "    soup.div.div.div.append(new_tag)\n",
    "    soup.div.div.div.div['class']=\"carousel-caption d-none d-md-block\"\n",
    "\n",
    "    for i in range(nn-1):\n",
    "        new_tag = soup.new_tag(\"div\")\n",
    "        soup.div.div.append(new_tag)\n",
    "        soup.div.div.find_all('div')[i+2]['class']=\"carousel-item\"\n",
    "        new_tag = soup.new_tag(\"center\")\n",
    "        soup.div.div.find_all('div')[i+2].append(new_tag)\n",
    "        new_tag = soup.new_tag(\"img\")\n",
    "        soup.div.div.find_all('div')[i+2].center.append(new_tag)\n",
    "        soup.div.div.find_all('div')[i+2].center.img\n",
    "        soup.div.div.find_all('div')[i+2].center.img['class']=\"d-block w-\"+carousel_img_size[i+1]\n",
    "        soup.div.div.find_all('div')[i+2].center.img['id']=carousel_img_id[i+1]\n",
    "        soup.div.div.find_all('div')[i+2].center.img['src']=\"\"\n",
    "\n",
    "    carouselfooter=r'<a class=\"carousel-control-prev\" data-slide=\"prev\" href=\"#'+carousel_id+'\" role=\"button\"><span aria-hidden=\"true\" class=\"carousel-control-prev-icon\"></span><span class=\"sr-only\">Previous</span></a><a class=\"carousel-control-next\" data-slide=\"next\" href=\"#'+carousel_id+'\" role=\"button\"><span aria-hidden=\"true\" class=\"carousel-control-next-icon\"></span><span class=\"sr-only\">Next</span></a></div>'\n",
    "\n",
    "    return '<div class=\"card-body border-top\">'+str(soup)[0:-6]+carouselfooter+'</div>'\n",
    "\n",
    "def insert_carousel(file,carousel_txt):\n",
    "    HTMLFile = open(file, \"r\")\n",
    "    index = HTMLFile.read()\n",
    "    S = BeautifulSoup(index, 'lxml')\n",
    "    for i in S.find_all('div'):\n",
    "        if i['class']==['row']:\n",
    "            if len(i.contents)==1:\n",
    "                S1 = BeautifulSoup(carousel_txt, 'lxml')\n",
    "                i.contents=S1.body\n",
    "    with open(file, \"w\") as file:\n",
    "        file.write(str(S))\n",
    "    Find_link('Post_20')\n",
    "# python check the size of a image in the link\n",
    "# automatic generate img size '75','50'...\n",
    "# write carousel into html files\n",
    "# indent "
   ]
  },
  {
   "cell_type": "code",
   "execution_count": 48,
   "id": "6ca212ad",
   "metadata": {},
   "outputs": [],
   "source": [
    "Date='20230404'\n",
    "title=\"2023 Spring\"\n",
    "cover_image='Post_20230403_27'\n",
    "\n",
    "post_generate(Date,title,cover_image)\n",
    "# Find_link('Post_20')"
   ]
  },
  {
   "cell_type": "code",
   "execution_count": 49,
   "id": "091ae997",
   "metadata": {},
   "outputs": [],
   "source": [
    "carousel_id=\"sp20233\"\n",
    "\n",
    "carousel_img_id=['Post_20230403_01',\n",
    "                 'Post_20230403_10',\n",
    "                 'Post_20230403_22',\n",
    "                 'Post_20230403_17',\n",
    "                 'Post_20230403_30',\n",
    "                'Post_20230403_06',\n",
    "                'Post_20230403_14',\n",
    "                'Post_20230403_11',\n",
    "                'Post_20230403_29']\n",
    "carousel_img_size=['75',\n",
    "                   '75',\n",
    "                   '50',\n",
    "                   '50',\n",
    "                  '75',\n",
    "                   '50',\n",
    "                   '50',\n",
    "                  '50',\n",
    "                  '75']\n",
    "carousel_txt=carousel_maker(carousel_id,carousel_img_id,carousel_img_size)\n",
    "\n"
   ]
  },
  {
   "cell_type": "code",
   "execution_count": 50,
   "id": "e7cdb192",
   "metadata": {},
   "outputs": [
    {
     "name": "stdout",
     "output_type": "stream",
     "text": [
      "Post_20220929.html\n",
      "Post_20230129.html\n",
      "Post_20221022.html\n",
      "Post_20230404.html\n",
      "Post_20230403_01\n",
      "Post_20230403_10\n",
      "Post_20230403_22\n",
      "Post_20230403_17\n",
      "Post_20230403_30\n",
      "Post_20230403_06\n",
      "Post_20230403_14\n",
      "Post_20230403_11\n",
      "Post_20230403_29\n",
      "Post_20230111.html\n",
      "Post_20211010.html\n",
      "Post_20230403.html\n"
     ]
    }
   ],
   "source": [
    "file=\"Post_\"+Date+\".html\"\n",
    "insert_carousel(file,carousel_txt)\n"
   ]
  },
  {
   "cell_type": "code",
   "execution_count": 58,
   "id": "0b84b0b0",
   "metadata": {},
   "outputs": [],
   "source": [
    "def carousel_image_size(carousel_img_id):\n",
    "    for i in carousel_img_id:\n",
    "        print(ImgID_Lib.dictt[i])\n",
    "        with open(ImgID_Lib.dictt[i],\"r\") as file:\n",
    "            print(file)"
   ]
  },
  {
   "cell_type": "code",
   "execution_count": 59,
   "id": "4f18069d",
   "metadata": {},
   "outputs": [
    {
     "name": "stdout",
     "output_type": "stream",
     "text": [
      "https://live.staticflickr.com/65535/52789417591_95ac45c3b2_k.jpg\n"
     ]
    },
    {
     "ename": "FileNotFoundError",
     "evalue": "[Errno 2] No such file or directory: 'https://live.staticflickr.com/65535/52789417591_95ac45c3b2_k.jpg'",
     "output_type": "error",
     "traceback": [
      "\u001b[0;31m---------------------------------------------------------------------------\u001b[0m",
      "\u001b[0;31mFileNotFoundError\u001b[0m                         Traceback (most recent call last)",
      "\u001b[0;32m/var/folders/w7/n313wxps68x7gry7kfqz3dgc0000gn/T/ipykernel_4411/3642338921.py\u001b[0m in \u001b[0;36m<module>\u001b[0;34m\u001b[0m\n\u001b[0;32m----> 1\u001b[0;31m \u001b[0mcarousel_image_size\u001b[0m\u001b[0;34m(\u001b[0m\u001b[0mcarousel_img_id\u001b[0m\u001b[0;34m)\u001b[0m\u001b[0;34m\u001b[0m\u001b[0;34m\u001b[0m\u001b[0m\n\u001b[0m",
      "\u001b[0;32m/var/folders/w7/n313wxps68x7gry7kfqz3dgc0000gn/T/ipykernel_4411/762736509.py\u001b[0m in \u001b[0;36mcarousel_image_size\u001b[0;34m(carousel_img_id)\u001b[0m\n\u001b[1;32m      2\u001b[0m     \u001b[0;32mfor\u001b[0m \u001b[0mi\u001b[0m \u001b[0;32min\u001b[0m \u001b[0mcarousel_img_id\u001b[0m\u001b[0;34m:\u001b[0m\u001b[0;34m\u001b[0m\u001b[0;34m\u001b[0m\u001b[0m\n\u001b[1;32m      3\u001b[0m         \u001b[0mprint\u001b[0m\u001b[0;34m(\u001b[0m\u001b[0mImgID_Lib\u001b[0m\u001b[0;34m.\u001b[0m\u001b[0mdictt\u001b[0m\u001b[0;34m[\u001b[0m\u001b[0mi\u001b[0m\u001b[0;34m]\u001b[0m\u001b[0;34m)\u001b[0m\u001b[0;34m\u001b[0m\u001b[0;34m\u001b[0m\u001b[0m\n\u001b[0;32m----> 4\u001b[0;31m         \u001b[0;32mwith\u001b[0m \u001b[0mopen\u001b[0m\u001b[0;34m(\u001b[0m\u001b[0mImgID_Lib\u001b[0m\u001b[0;34m.\u001b[0m\u001b[0mdictt\u001b[0m\u001b[0;34m[\u001b[0m\u001b[0mi\u001b[0m\u001b[0;34m]\u001b[0m\u001b[0;34m,\u001b[0m\u001b[0;34m\"r\"\u001b[0m\u001b[0;34m)\u001b[0m \u001b[0;32mas\u001b[0m \u001b[0mfile\u001b[0m\u001b[0;34m:\u001b[0m\u001b[0;34m\u001b[0m\u001b[0;34m\u001b[0m\u001b[0m\n\u001b[0m\u001b[1;32m      5\u001b[0m             \u001b[0mprint\u001b[0m\u001b[0;34m(\u001b[0m\u001b[0mfile\u001b[0m\u001b[0;34m)\u001b[0m\u001b[0;34m\u001b[0m\u001b[0;34m\u001b[0m\u001b[0m\n",
      "\u001b[0;31mFileNotFoundError\u001b[0m: [Errno 2] No such file or directory: 'https://live.staticflickr.com/65535/52789417591_95ac45c3b2_k.jpg'"
     ]
    }
   ],
   "source": [
    "carousel_image_size(carousel_img_id)"
   ]
  },
  {
   "cell_type": "code",
   "execution_count": null,
   "id": "60ae7182",
   "metadata": {},
   "outputs": [],
   "source": []
  }
 ],
 "metadata": {
  "kernelspec": {
   "display_name": "Python 3 (ipykernel)",
   "language": "python",
   "name": "python3"
  },
  "language_info": {
   "codemirror_mode": {
    "name": "ipython",
    "version": 3
   },
   "file_extension": ".py",
   "mimetype": "text/x-python",
   "name": "python",
   "nbconvert_exporter": "python",
   "pygments_lexer": "ipython3",
   "version": "3.9.13"
  }
 },
 "nbformat": 4,
 "nbformat_minor": 5
}

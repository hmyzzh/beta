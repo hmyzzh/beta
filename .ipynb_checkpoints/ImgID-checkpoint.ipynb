{
 "cells": [
  {
   "cell_type": "code",
   "execution_count": 50,
   "id": "6fc4f9a9",
   "metadata": {},
   "outputs": [],
   "source": [
    "from bs4 import BeautifulSoup\n",
    "import requests\n",
    "import os"
   ]
  },
  {
   "cell_type": "code",
   "execution_count": 37,
   "id": "b0c5c69c",
   "metadata": {},
   "outputs": [],
   "source": [
    "dictt={\n",
    "    \"IMG0001\":\"http://i.endpot.com/image/SGBF5/MStRdmdPRFIrRjFhdklMdTRsUm94eFdxMWNGa0RKeGcvdVBZQmJNd0gvND0.jpg\",\n",
    "    \"IMG0002\":\"https://i.endpot.com/image/5N7AM/IMG_0389.JPEG\",\n",
    "    \"Post_20230129_03\":\"https://live.staticflickr.com/65535/52711452795_b5233186ec_k.jpg\",\n",
    "    \"Post_20230129_02\":\"https://live.staticflickr.com/65535/52711514698_eae834868b_h.jpg\",\n",
    "    \"Post_20230129_01\":\"https://live.staticflickr.com/65535/52711036546_cd09af0fab_h.jpg\"\n",
    "}"
   ]
  },
  {
   "cell_type": "code",
   "execution_count": 57,
   "id": "59c72077",
   "metadata": {},
   "outputs": [
    {
     "name": "stdout",
     "output_type": "stream",
     "text": [
      "Post_20230129.html\n",
      "Post_20221022.html\n",
      "Post_20230111.html\n",
      "Post_20211010.html\n"
     ]
    }
   ],
   "source": [
    "path=''\n",
    "for file in os.listdir(path):\n",
    "    if 'Post' in file:\n",
    "        print(file)\n",
    "        HTMLFile = open(path+file, \"r\")\n",
    "        index = HTMLFile.read()\n",
    "        S = BeautifulSoup(index, 'lxml')\n",
    "        for val in S.find_all('img'):\n",
    "            if val['src']==\"\":\n",
    "                ImgID=val['id']\n",
    "                val['src']=dictt[ImgID]\n",
    "        with open(file, \"w\") as file:\n",
    "            file.write(str(S))"
   ]
  },
  {
   "cell_type": "code",
   "execution_count": null,
   "id": "dab05813",
   "metadata": {},
   "outputs": [],
   "source": []
  }
 ],
 "metadata": {
  "kernelspec": {
   "display_name": "Python 3 (ipykernel)",
   "language": "python",
   "name": "python3"
  },
  "language_info": {
   "codemirror_mode": {
    "name": "ipython",
    "version": 3
   },
   "file_extension": ".py",
   "mimetype": "text/x-python",
   "name": "python",
   "nbconvert_exporter": "python",
   "pygments_lexer": "ipython3",
   "version": "3.9.13"
  }
 },
 "nbformat": 4,
 "nbformat_minor": 5
}
